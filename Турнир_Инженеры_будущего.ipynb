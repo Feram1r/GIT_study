{
  "nbformat": 4,
  "nbformat_minor": 0,
  "metadata": {
    "colab": {
      "provenance": [],
      "gpuType": "T4",
      "authorship_tag": "ABX9TyNsbcY5xe5HWW89gNm1NQ0S",
      "include_colab_link": true
    },
    "kernelspec": {
      "name": "python3",
      "display_name": "Python 3"
    },
    "language_info": {
      "name": "python"
    },
    "accelerator": "GPU"
  },
  "cells": [
    {
      "cell_type": "markdown",
      "metadata": {
        "id": "view-in-github",
        "colab_type": "text"
      },
      "source": [
        "<a href=\"https://colab.research.google.com/github/Feram1r/GIT_study/blob/main/%D0%A2%D1%83%D1%80%D0%BD%D0%B8%D1%80_%D0%98%D0%BD%D0%B6%D0%B5%D0%BD%D0%B5%D1%80%D1%8B_%D0%B1%D1%83%D0%B4%D1%83%D1%89%D0%B5%D0%B3%D0%BE.ipynb\" target=\"_parent\"><img src=\"https://colab.research.google.com/assets/colab-badge.svg\" alt=\"Open In Colab\"/></a>"
      ]
    },
    {
      "cell_type": "markdown",
      "source": [
        "# 1 Задание"
      ],
      "metadata": {
        "id": "KR4j5Smq_mK0"
      }
    },
    {
      "cell_type": "code",
      "execution_count": null,
      "metadata": {
        "id": "4tEsfLXt99yY"
      },
      "outputs": [],
      "source": [
        "# Задайте свои точки здесь\n",
        "points = [(1.4, 30.64), (-4.5, 62.5), (2.8, 64.0)]  # Пример точек\n",
        "degree = 2  # Степень многочлена\n",
        "\n",
        "# Подберите коэффициенты многочлена\n",
        "coefficients = fit_polynomial(points, degree)\n",
        "print(f\"Коэффициенты многочлена: {coefficients}\")\n",
        "# Выведите уравнение многочлена\n",
        "polynomial = np.poly1d(coefficients)\n",
        "print(f\"Многочлен: {polynomial}\")\n",
        "\n",
        "# Коэффициенты многочлена которые слишком малы, можно принять за 0\n",
        "# порог срабатывания можно задавать самим\n",
        "threshold = 0.0000000001\n",
        "\n",
        "for i in range(len(coefficients)):\n",
        "  if coefficients[i] < threshold:\n",
        "    coefficients[i] = 0\n",
        "print(f\"После порога коэффициенты многочлена: {coefficients}\")\n",
        "\n",
        "# Выведите уравнение многочлена\n",
        "polynomial = np.poly1d(coefficients)\n",
        "print(f\"Многочлен: {polynomial}\")\n",
        "\n",
        "# Постройте график\n",
        "plot_polynomial(points, coefficients)"
      ]
    },
    {
      "cell_type": "markdown",
      "source": [
        "# 2 Задание()"
      ],
      "metadata": {
        "id": "rST1FvfT_snN"
      }
    },
    {
      "cell_type": "markdown",
      "source": [
        "С МАТРИЦЕЙ"
      ],
      "metadata": {
        "id": "l9y3ky_3AnsR"
      }
    },
    {
      "cell_type": "code",
      "source": [
        "def tsp_dynamic_programming(matrix):\n",
        "    n = len(matrix)\n",
        "    INF = float('inf')\n",
        "\n",
        "    # dp[mask][i] = минимальная стоимость пути, проходящего через точки mask и заканчивающегося в i\n",
        "    dp = [[INF] * n for _ in range(1 << n)]\n",
        "    dp[1][0] = 0  # Начинаем с первой точки\n",
        "\n",
        "    for mask in range(1 << n):\n",
        "        for u in range(n):\n",
        "            if not (mask & (1 << u)):  # Если точка u не включена в маску\n",
        "                continue\n",
        "            for v in range(n):\n",
        "                if mask & (1 << v):  # Если точка v уже посещена\n",
        "                    continue\n",
        "                new_mask = mask | (1 << v)\n",
        "                dp[new_mask][v] = min(dp[new_mask][v], dp[mask][u] + matrix[u][v])\n",
        "\n",
        "    # Нахождение минимальной стоимости и восстановление пути\n",
        "    full_set = (1 << n) - 1\n",
        "    min_cost = INF\n",
        "    last_point = -1\n",
        "    for i in range(n):\n",
        "        cost = dp[full_set][i] + matrix[i][0]  # Возвращаемся в начальную точку\n",
        "        if cost < min_cost:\n",
        "            min_cost = cost\n",
        "            last_point = i\n",
        "\n",
        "    # Восстановление пути\n",
        "    route = []\n",
        "    mask = full_set\n",
        "    current = last_point\n",
        "    while True:\n",
        "        route.append(current)\n",
        "        if mask == 1:  # Когда остаётся только начальная точка\n",
        "            break\n",
        "        for i in range(n):\n",
        "            if mask & (1 << i) and dp[mask][current] == dp[mask ^ (1 << current)][i] + matrix[i][current]:\n",
        "                mask ^= (1 << current)\n",
        "                current = i\n",
        "                break\n",
        "    route.append(0)  # Возвращаемся в начальную точку\n",
        "    route.reverse()\n",
        "\n",
        "    return route, min_cost\n",
        "\n",
        "# Пример использования\n",
        "matrix = [[0,10,15,20,25],[10,0,35,25,30],[15,35,0,30,20],[20,25,30,0,10],[25,30,20,10,0]]\n",
        "route, dist = tsp_dynamic_programming(matrix)\n",
        "print(\"Лучший маршрут:\", route)\n",
        "print(\"Общая длина:\", dist)"
      ],
      "metadata": {
        "id": "iM_6GeKu_w4r"
      },
      "execution_count": null,
      "outputs": []
    },
    {
      "cell_type": "markdown",
      "source": [
        "**СО СПИСКОМ ТОЧЕК**"
      ],
      "metadata": {
        "id": "jXdMKH2gAqRf"
      }
    },
    {
      "cell_type": "code",
      "source": [
        "import math\n",
        "import sys\n",
        "\n",
        "def tsp_dynamic_programming(points):\n",
        "    n = len(points)\n",
        "    INF = sys.maxsize\n",
        "\n",
        "    # Создание матрицы расстояний\n",
        "    dist = [[0] * n for _ in range(n)]\n",
        "    for i in range(n):\n",
        "        for j in range(n):\n",
        "            if i != j:\n",
        "                dist[i][j] = math.sqrt((points[i][0] - points[j][0])**2 + (points[i][1] - points[j][1])**2)\n",
        "\n",
        "    # dp[mask][i] = минимальная стоимость пути, проходящего через точки mask и заканчивающегося в i\n",
        "    dp = [[INF] * n for _ in range(1 << n)]\n",
        "    dp[1][0] = 0  # Начинаем с первой точки\n",
        "\n",
        "    for mask in range(1 << n):\n",
        "        for u in range(n):\n",
        "            if not (mask & (1 << u)):  # Если точка u не включена в маску\n",
        "                continue\n",
        "            for v in range(n):\n",
        "                if mask & (1 << v):  # Если точка v уже посещена\n",
        "                    continue\n",
        "                new_mask = mask | (1 << v)\n",
        "                dp[new_mask][v] = min(dp[new_mask][v], dp[mask][u] + dist[u][v])\n",
        "\n",
        "    # Нахождение минимальной стоимости и восстановление пути\n",
        "    full_set = (1 << n) - 1\n",
        "    min_cost = INF\n",
        "    last_point = -1\n",
        "    for i in range(n):\n",
        "        cost = dp[full_set][i] + dist[i][0]  # Возвращаемся в начальную точку\n",
        "        if cost < min_cost:\n",
        "            min_cost = cost\n",
        "            last_point = i\n",
        "\n",
        "    # Восстановление пути\n",
        "    route = []\n",
        "    mask = full_set\n",
        "    current = last_point\n",
        "    while True:\n",
        "        route.append(current)\n",
        "        if mask == 1:  # Когда остаётся только начальная точка\n",
        "            break\n",
        "        for i in range(n):\n",
        "            if mask & (1 << i) and dp[mask][current] == dp[mask ^ (1 << current)][i] + dist[i][current]:\n",
        "                mask ^= (1 << current)\n",
        "                current = i\n",
        "                break\n",
        "    route.append(0)  # Возвращаемся в начальную точку\n",
        "    route.reverse()\n",
        "\n",
        "    return route, min_cost\n",
        "\n",
        "# Пример использования\n",
        "points = [(0, 0), (3, 4), (5, 7), (8, 1), (9, 5), (6, 2), (2, 8), (4, 6)]\n",
        "route, dist = tsp_dynamic_programming(points)\n",
        "print(\"Лучший маршрут:\", route)\n",
        "print(\"Общая длина:\", dist)"
      ],
      "metadata": {
        "colab": {
          "base_uri": "https://localhost:8080/"
        },
        "id": "BPGEWyiAAl8w",
        "outputId": "01708de0-eef6-45b6-80f6-6b1dce062be3"
      },
      "execution_count": 1,
      "outputs": [
        {
          "output_type": "stream",
          "name": "stdout",
          "text": [
            "Лучший маршрут: [0, 0, 5, 3, 4, 2, 6, 7, 1]\n",
            "Общая длина: 30.38263764086815\n"
          ]
        }
      ]
    }
  ]
}